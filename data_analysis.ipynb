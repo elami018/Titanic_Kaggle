{
 "cells": [
  {
   "cell_type": "code",
   "execution_count": null,
   "metadata": {},
   "outputs": [],
   "source": [
    "import pandas as pd\n",
    "import matplotlib.pyplot as plt\n",
    "import seaborn as sns\n",
    "\n",
    "titanic = pd.read_csv('train.csv')\n",
    "titanic.head()"
   ]
  },
  {
   "cell_type": "code",
   "execution_count": null,
   "metadata": {},
   "outputs": [],
   "source": [
    "titanic.info()"
   ]
  },
  {
   "cell_type": "code",
   "execution_count": null,
   "metadata": {},
   "outputs": [],
   "source": [
    "survival_rate = titanic['Survived'].mean()*100\n",
    "\n",
    "sns.set(style='darkgrid')\n",
    "plt.figure(figsize=(2, 1))\n",
    "sns.countplot(x='Survived', data=titanic)\n",
    "plt.xlabel('Survived')\n",
    "plt.ylabel('Passenger Count')\n",
    "plt.title('Survival Rate: {:.2f}%'.format(survival_rate))\n",
    "plt.xticks([0, 1], ['No', 'Yes'])\n",
    "plt.show()"
   ]
  },
  {
   "cell_type": "code",
   "execution_count": null,
   "metadata": {},
   "outputs": [],
   "source": [
    "# How does survival rate vary by gender?\n",
    "survival_by_gender = titanic.groupby('Sex')['Survived'].mean()*100\n",
    "sns.set(style='darkgrid')\n",
    "plt.figure(figsize=(2, 1))\n",
    "sns.barplot(x=survival_by_gender.index, y=survival_by_gender.values)\n",
    "plt.xlabel('Gender')\n",
    "plt.ylabel('Survival Rate')\n",
    "plt.title('Survival Rate by Gender')\n",
    "plt.show()"
   ]
  },
  {
   "cell_type": "code",
   "execution_count": null,
   "metadata": {},
   "outputs": [],
   "source": [
    "# Passenger Age distribution\n",
    "sns.set(style='darkgrid')\n",
    "plt.figure(figsize=(4,3))\n",
    "sns.histplot(data=titanic, x='Age', bins=20, kde=True)\n",
    "plt.xlabel('Age')\n",
    "plt.ylabel('Count')\n",
    "plt.title('Distribution of Passenger Ages')\n",
    "plt.show()"
   ]
  },
  {
   "cell_type": "code",
   "execution_count": null,
   "metadata": {},
   "outputs": [],
   "source": [
    "# Survival Rate by passenger class\n",
    "survival_by_class = titanic.groupby('Pclass')['Survived'].mean()*100\n",
    "sns.set(style='darkgrid')\n",
    "plt.figure(figsize=(3, 2))\n",
    "sns.barplot(x=survival_by_class.index, y=survival_by_class.values)\n",
    "plt.xlabel('Passenger Class')\n",
    "plt.ylabel('Survival Rate')\n",
    "plt.title('Survival Rate by Passenger Class')\n",
    "plt.show()"
   ]
  },
  {
   "cell_type": "code",
   "execution_count": null,
   "metadata": {},
   "outputs": [],
   "source": [
    "# Survival rate among different age groups\n",
    "age_bins = [0, 12, 18, 30, 50, 100]\n",
    "age_labels = ['Child', 'Teenage', 'Young Adult', 'Adult', 'Elderly']\n",
    "titanic['AgeGroup'] = pd.cut(titanic['Age'], bins=age_bins, labels=age_labels, right=False)\n",
    "\n",
    "survival_by_age_group = titanic.groupby('AgeGroup')['Survived'].mean()*100\n",
    "sns.set(style='darkgrid')\n",
    "plt.figure(figsize=(4, 3))\n",
    "sns.barplot(x=survival_by_age_group.index, y=survival_by_age_group.values)\n",
    "plt.xlabel('Age Group')\n",
    "plt.ylabel('Survival Rate')\n",
    "plt.title('Survival Rate by Age Group')\n",
    "plt.show()\n",
    "titanic = titanic.drop('AgeGroup', axis=1)"
   ]
  },
  {
   "cell_type": "code",
   "execution_count": null,
   "metadata": {},
   "outputs": [],
   "source": [
    "survival_by_embarkation = titanic.groupby('Embarked')['Survived'].mean()*100\n",
    "sns.set(style='darkgrid')\n",
    "plt.figure(figsize=(3, 2))\n",
    "sns.barplot(x=survival_by_embarkation.index, y=survival_by_embarkation.values)\n",
    "plt.xlabel('Port of Embarkation')\n",
    "plt.ylabel('Survival Rate')\n",
    "plt.title('Survival Rate by Port of Embarkation')\n",
    "plt.show()"
   ]
  },
  {
   "cell_type": "code",
   "execution_count": null,
   "metadata": {},
   "outputs": [],
   "source": [
    "fare_bins = [0, 50, 100, 150, 200, 300, 1000]\n",
    "fare_labels = ['0-50', '50-100', '100-150', '150-200', '200-300', '300+']\n",
    "\n",
    "titanic['FareGroup'] = pd.cut(titanic['Fare'], bins=fare_bins, labels=fare_labels, right=False)\n",
    "survival_by_fare_group = titanic.groupby('FareGroup')['Survived'].mean()*100\n",
    "\n",
    "sns.set(style='darkgrid')\n",
    "plt.figure(figsize=(4, 3))\n",
    "sns.barplot(x=survival_by_fare_group.index, y=survival_by_fare_group.values)\n",
    "plt.xlabel('Fare Group')\n",
    "plt.ylabel('Survival Rate')\n",
    "plt.title('Survival Rate by Fare Group')\n",
    "plt.show()\n",
    "titanic = titanic.drop('FareGroup', axis=1)"
   ]
  },
  {
   "cell_type": "code",
   "execution_count": null,
   "metadata": {},
   "outputs": [],
   "source": [
    "titanic['CabinDeck'] = titanic['Cabin'].str.extract(r'([A-Za-z])')\n",
    "sns.set(style='darkgrid')\n",
    "plt.figure(figsize=(2, 1))\n",
    "sns.countplot(data=titanic, x='CabinDeck', order=sorted(titanic['CabinDeck'].dropna().unique()))\n",
    "plt.xlabel('Cabin Deck')\n",
    "plt.ylabel('Count')\n",
    "plt.title('Distribution of Passenger Cabin Locations')\n",
    "plt.show()\n",
    "\n",
    "survival_by_cabin_deck = titanic.groupby('CabinDeck')['Survived'].mean() * 100\n",
    "sns.set(style='darkgrid')\n",
    "plt.figure(figsize=(4, 3))\n",
    "sns.barplot(x=survival_by_cabin_deck.index, y=survival_by_cabin_deck.values)\n",
    "plt.xlabel('Cabin Deck')\n",
    "plt.ylabel('Survival Rate')\n",
    "plt.title('Survival Rate by Cabin Deck')\n",
    "plt.show()\n",
    "\n",
    "titanic = titanic.drop('CabinDeck', axis=1)"
   ]
  },
  {
   "cell_type": "code",
   "execution_count": null,
   "metadata": {},
   "outputs": [],
   "source": [
    "survival_by_age_gender = titanic.groupby(['AgeGroup', 'Sex'])['Survived'].mean() * 100\n",
    "survival_pivot = survival_by_age_gender.unstack()\n",
    "sns.set(style='darkgrid')\n",
    "plt.figure(figsize=(3, 2))\n",
    "sns.heatmap(data=survival_pivot, annot=True, cmap='coolwarm', fmt=\".2f\", cbar=True)\n",
    "plt.xlabel('Gender')\n",
    "plt.ylabel('Age Group')\n",
    "plt.title('Survival Rate by Age Group and Gender')\n",
    "plt.show()"
   ]
  },
  {
   "cell_type": "code",
   "execution_count": null,
   "metadata": {},
   "outputs": [],
   "source": [
    "titanic['FamilySize'] = titanic['SibSp'] + titanic['Parch'] + 1\n",
    "survival_by_family_size = titanic.groupby('FamilySize')['Survived'].mean() * 100\n",
    "sns.set(style='darkgrid')\n",
    "plt.figure(figsize=(2, 1))\n",
    "sns.barplot(x=survival_by_family_size.index, y=survival_by_family_size.values)\n",
    "plt.xlabel('Family Size')\n",
    "plt.ylabel('Survival Rate')\n",
    "plt.title('Survival Rate by Family Size')\n",
    "plt.show()\n",
    "titanic = titanic.drop('FamilySize', axis=1)"
   ]
  },
  {
   "cell_type": "code",
   "execution_count": null,
   "metadata": {},
   "outputs": [],
   "source": [
    "survival_by_embark_class = titanic.groupby(['Embarked', 'Pclass'])['Survived'].mean() * 100\n",
    "survival_pivot = survival_by_embark_class.unstack()\n",
    "sns.set(style='darkgrid')\n",
    "plt.figure(figsize=(3, 2))\n",
    "sns.heatmap(data=survival_pivot, annot=True, cmap='coolwarm', fmt=\".2f\", cbar=True)\n",
    "plt.xlabel('Passenger Class')\n",
    "plt.ylabel('Port of Embarkation')\n",
    "plt.title('Survival Rate by Port of Embarkation and Passenger Class')\n",
    "plt.show()"
   ]
  },
  {
   "cell_type": "code",
   "execution_count": null,
   "metadata": {},
   "outputs": [],
   "source": [
    "sns.heatmap(titanic.corr())"
   ]
  }
 ],
 "metadata": {
  "language_info": {
   "name": "python"
  },
  "orig_nbformat": 4
 },
 "nbformat": 4,
 "nbformat_minor": 2
}
