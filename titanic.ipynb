{
 "cells": [
  {
   "cell_type": "code",
   "execution_count": 1,
   "metadata": {},
   "outputs": [],
   "source": [
    "import pandas as pd\n",
    "import matplotlib.pyplot as plt\n",
    "import re\n",
    "from sklearn.model_selection import cross_val_score\n",
    "from sklearn.metrics import accuracy_score\n",
    "\n",
    "train_data = pd.read_csv('train.csv')"
   ]
  },
  {
   "cell_type": "code",
   "execution_count": 2,
   "metadata": {},
   "outputs": [],
   "source": [
    "X_train = train_data.drop('Survived', axis=1)\n",
    "y_train = train_data['Survived'].copy()\n",
    "\n",
    "X_test = pd.read_csv('test.csv')"
   ]
  },
  {
   "cell_type": "code",
   "execution_count": 3,
   "metadata": {},
   "outputs": [
    {
     "data": {
      "text/html": [
       "<div>\n",
       "<style scoped>\n",
       "    .dataframe tbody tr th:only-of-type {\n",
       "        vertical-align: middle;\n",
       "    }\n",
       "\n",
       "    .dataframe tbody tr th {\n",
       "        vertical-align: top;\n",
       "    }\n",
       "\n",
       "    .dataframe thead th {\n",
       "        text-align: right;\n",
       "    }\n",
       "</style>\n",
       "<table border=\"1\" class=\"dataframe\">\n",
       "  <thead>\n",
       "    <tr style=\"text-align: right;\">\n",
       "      <th></th>\n",
       "      <th>PassengerId</th>\n",
       "      <th>Pclass</th>\n",
       "      <th>Name</th>\n",
       "      <th>Sex</th>\n",
       "      <th>Age</th>\n",
       "      <th>SibSp</th>\n",
       "      <th>Parch</th>\n",
       "      <th>Ticket</th>\n",
       "      <th>Fare</th>\n",
       "      <th>Cabin</th>\n",
       "      <th>Embarked</th>\n",
       "    </tr>\n",
       "  </thead>\n",
       "  <tbody>\n",
       "    <tr>\n",
       "      <th>0</th>\n",
       "      <td>1</td>\n",
       "      <td>3</td>\n",
       "      <td>Braund, Mr. Owen Harris</td>\n",
       "      <td>male</td>\n",
       "      <td>22.0</td>\n",
       "      <td>1</td>\n",
       "      <td>0</td>\n",
       "      <td>A/5 21171</td>\n",
       "      <td>7.2500</td>\n",
       "      <td>NaN</td>\n",
       "      <td>S</td>\n",
       "    </tr>\n",
       "    <tr>\n",
       "      <th>1</th>\n",
       "      <td>2</td>\n",
       "      <td>1</td>\n",
       "      <td>Cumings, Mrs. John Bradley (Florence Briggs Th...</td>\n",
       "      <td>female</td>\n",
       "      <td>38.0</td>\n",
       "      <td>1</td>\n",
       "      <td>0</td>\n",
       "      <td>PC 17599</td>\n",
       "      <td>71.2833</td>\n",
       "      <td>C85</td>\n",
       "      <td>C</td>\n",
       "    </tr>\n",
       "    <tr>\n",
       "      <th>2</th>\n",
       "      <td>3</td>\n",
       "      <td>3</td>\n",
       "      <td>Heikkinen, Miss. Laina</td>\n",
       "      <td>female</td>\n",
       "      <td>26.0</td>\n",
       "      <td>0</td>\n",
       "      <td>0</td>\n",
       "      <td>STON/O2. 3101282</td>\n",
       "      <td>7.9250</td>\n",
       "      <td>NaN</td>\n",
       "      <td>S</td>\n",
       "    </tr>\n",
       "    <tr>\n",
       "      <th>3</th>\n",
       "      <td>4</td>\n",
       "      <td>1</td>\n",
       "      <td>Futrelle, Mrs. Jacques Heath (Lily May Peel)</td>\n",
       "      <td>female</td>\n",
       "      <td>35.0</td>\n",
       "      <td>1</td>\n",
       "      <td>0</td>\n",
       "      <td>113803</td>\n",
       "      <td>53.1000</td>\n",
       "      <td>C123</td>\n",
       "      <td>S</td>\n",
       "    </tr>\n",
       "    <tr>\n",
       "      <th>4</th>\n",
       "      <td>5</td>\n",
       "      <td>3</td>\n",
       "      <td>Allen, Mr. William Henry</td>\n",
       "      <td>male</td>\n",
       "      <td>35.0</td>\n",
       "      <td>0</td>\n",
       "      <td>0</td>\n",
       "      <td>373450</td>\n",
       "      <td>8.0500</td>\n",
       "      <td>NaN</td>\n",
       "      <td>S</td>\n",
       "    </tr>\n",
       "  </tbody>\n",
       "</table>\n",
       "</div>"
      ],
      "text/plain": [
       "   PassengerId  Pclass                                               Name  \\\n",
       "0            1       3                            Braund, Mr. Owen Harris   \n",
       "1            2       1  Cumings, Mrs. John Bradley (Florence Briggs Th...   \n",
       "2            3       3                             Heikkinen, Miss. Laina   \n",
       "3            4       1       Futrelle, Mrs. Jacques Heath (Lily May Peel)   \n",
       "4            5       3                           Allen, Mr. William Henry   \n",
       "\n",
       "      Sex   Age  SibSp  Parch            Ticket     Fare Cabin Embarked  \n",
       "0    male  22.0      1      0         A/5 21171   7.2500   NaN        S  \n",
       "1  female  38.0      1      0          PC 17599  71.2833   C85        C  \n",
       "2  female  26.0      0      0  STON/O2. 3101282   7.9250   NaN        S  \n",
       "3  female  35.0      1      0            113803  53.1000  C123        S  \n",
       "4    male  35.0      0      0            373450   8.0500   NaN        S  "
      ]
     },
     "execution_count": 3,
     "metadata": {},
     "output_type": "execute_result"
    }
   ],
   "source": [
    "X_train.head()"
   ]
  },
  {
   "cell_type": "code",
   "execution_count": 4,
   "metadata": {},
   "outputs": [],
   "source": [
    "from sklearn.base import BaseEstimator, TransformerMixin\n",
    "from sklearn.preprocessing import StandardScaler, LabelEncoder\n",
    "\n",
    "class FeatureEngineering(BaseEstimator, TransformerMixin):\n",
    "\n",
    "    def __init__(self, group_age = True, group_fare = True, group_fam = True):\n",
    "        self.group_age = group_age\n",
    "        self.group_fare = group_fare\n",
    "        self.group_fam = group_fam\n",
    "    \n",
    "    def fit(self, X):\n",
    "        return self\n",
    "    \n",
    "    def transform(self, X):\n",
    "\n",
    "        def extract_title(name):\n",
    "            title_search = re.search(' ([A-Za-z]+)\\.', name)\n",
    "            if title_search:\n",
    "                return title_search.group(1)\n",
    "            return \"\"\n",
    "        \n",
    "        if 'Name' in X.columns:\n",
    "            X['Title'] = X['Name'].apply(extract_title)\n",
    "            X = X.drop(['Name'], axis=1)\n",
    "        \n",
    "        if 'Age' in X.columns and self.group_age:\n",
    "            age_bins = [0, 12, 18, 30, 50, 100]\n",
    "            age_labels = ['Child', 'Teenage', 'Young Adult', 'Adult', 'Elderly']\n",
    "            X['AgeGroup'] = pd.cut(X['Age'], bins=age_bins, labels=age_labels, right=False)\n",
    "            X = X.drop(['Age'], axis=1)\n",
    "\n",
    "        if 'Fare' in X.columns and self.group_fare:\n",
    "            fare_bins = [0, 50, 100, 150, 200, 300, 1000]\n",
    "            fare_labels = ['0-50', '50-100', '100-150', '150-200', '200-300', '300+']\n",
    "            X['FareGroup'] = pd.cut(X['Fare'], bins=fare_bins, labels=fare_labels, right=False)\n",
    "            X = X.drop(['Fare'], axis=1)\n",
    "        \n",
    "        if 'SibSp' in X.columns and 'Parch' in X.columns and self.group_fam:\n",
    "            X['FamilySize'] = X['SibSp'] + X['Parch'] + 1\n",
    "            X = X.drop(['SibSp', 'Parch'], axis=1)\n",
    "            \n",
    "        X = X.drop(['PassengerId', 'Cabin', 'Ticket'], axis=1)\n",
    "        return X\n"
   ]
  },
  {
   "cell_type": "code",
   "execution_count": 5,
   "metadata": {},
   "outputs": [],
   "source": [
    "feat_eng = FeatureEngineering()\n",
    "X_train = feat_eng.fit_transform(X_train)\n",
    "X_test = feat_eng.fit_transform(X_test)"
   ]
  },
  {
   "cell_type": "code",
   "execution_count": 6,
   "metadata": {},
   "outputs": [
    {
     "name": "stderr",
     "output_type": "stream",
     "text": [
      "/home/mouhamadali/anaconda3/envs/ml_book_env/lib/python3.10/site-packages/sklearn/preprocessing/_label.py:114: DataConversionWarning: A column-vector y was passed when a 1d array was expected. Please change the shape of y to (n_samples, ), for example using ravel().\n",
      "  y = column_or_1d(y, warn=True)\n",
      "/home/mouhamadali/anaconda3/envs/ml_book_env/lib/python3.10/site-packages/sklearn/preprocessing/_label.py:114: DataConversionWarning: A column-vector y was passed when a 1d array was expected. Please change the shape of y to (n_samples, ), for example using ravel().\n",
      "  y = column_or_1d(y, warn=True)\n"
     ]
    }
   ],
   "source": [
    "from sklearn.preprocessing import LabelEncoder\n",
    "label_encoder = LabelEncoder()\n",
    "X_train['Sex'] = label_encoder.fit_transform(X_train[['Sex']])\n",
    "X_train['Title'] = label_encoder.fit_transform(X_train['Title'])\n",
    "X_train['Embarked'] = label_encoder.fit_transform(X_train['Embarked'])\n",
    "\n",
    "X_test['Sex'] = label_encoder.fit_transform(X_test[['Sex']])\n",
    "X_test['Title'] = label_encoder.fit_transform(X_test['Title'])\n",
    "X_test['Embarked'] = label_encoder.fit_transform(X_test['Embarked'])"
   ]
  },
  {
   "cell_type": "code",
   "execution_count": 7,
   "metadata": {},
   "outputs": [],
   "source": [
    "from sklearn.pipeline import Pipeline\n",
    "from sklearn.preprocessing import StandardScaler, OrdinalEncoder, LabelEncoder\n",
    "from sklearn.impute import SimpleImputer\n",
    "from sklearn.compose import ColumnTransformer\n",
    "\n",
    "num_attribs = ['Pclass', 'FamilySize','Sex', 'Embarked', 'Title']\n",
    "ord_attribs = ['FareGroup', 'AgeGroup']\n",
    "                \n",
    "num_pipeline = Pipeline([\n",
    "    ('imputer', SimpleImputer(strategy='median')),\n",
    "    ('std_scaler', StandardScaler()),\n",
    "])\n",
    "\n",
    "ord_pipeline = Pipeline([\n",
    "    ('imputer', SimpleImputer(strategy='most_frequent')),\n",
    "    ('encoder', OrdinalEncoder()),\n",
    "])\n",
    "\n",
    "final_pipeline = ColumnTransformer([\n",
    "    ('num', num_pipeline, num_attribs),\n",
    "    ('ord', ord_pipeline, ord_attribs),\n",
    "])\n",
    "\n",
    "\n",
    "X_train = final_pipeline.fit_transform(X_train)\n",
    "X_test = final_pipeline.fit_transform(X_test)"
   ]
  },
  {
   "cell_type": "code",
   "execution_count": 8,
   "metadata": {},
   "outputs": [
    {
     "data": {
      "text/plain": [
       "(891, 7)"
      ]
     },
     "execution_count": 8,
     "metadata": {},
     "output_type": "execute_result"
    }
   ],
   "source": [
    "X_train.shape"
   ]
  },
  {
   "cell_type": "code",
   "execution_count": 9,
   "metadata": {},
   "outputs": [
    {
     "data": {
      "text/plain": [
       "(418, 7)"
      ]
     },
     "execution_count": 9,
     "metadata": {},
     "output_type": "execute_result"
    }
   ],
   "source": [
    "X_test.shape"
   ]
  },
  {
   "cell_type": "code",
   "execution_count": 10,
   "metadata": {},
   "outputs": [
    {
     "data": {
      "text/plain": [
       "0.7868055991463185"
      ]
     },
     "execution_count": 10,
     "metadata": {},
     "output_type": "execute_result"
    }
   ],
   "source": [
    "from sklearn.linear_model import LogisticRegression\n",
    "from sklearn.model_selection import GridSearchCV\n",
    "import numpy as np\n",
    "\n",
    "best_log_clf = LogisticRegression(C=10, max_iter = 1000, penalty='l2')\n",
    "best_log_clf.fit(X_train, y_train)\n",
    "cross_val_score(best_log_clf, X_train, y_train).mean()"
   ]
  },
  {
   "cell_type": "code",
   "execution_count": 11,
   "metadata": {},
   "outputs": [
    {
     "data": {
      "text/plain": [
       "0.8126043562864854"
      ]
     },
     "execution_count": 11,
     "metadata": {},
     "output_type": "execute_result"
    }
   ],
   "source": [
    "from sklearn.svm import SVC\n",
    "\n",
    "best_svm_clf = SVC(C=10, coef0=-1, degree=2)\n",
    "best_svm_clf.fit(X_train, y_train)\n",
    "\n",
    "cross_val_score(best_svm_clf, X_train, y_train, scoring='accuracy').mean()"
   ]
  },
  {
   "cell_type": "code",
   "execution_count": 12,
   "metadata": {},
   "outputs": [
    {
     "data": {
      "text/plain": [
       "0.8193082669010107"
      ]
     },
     "execution_count": 12,
     "metadata": {},
     "output_type": "execute_result"
    }
   ],
   "source": [
    "from sklearn.neighbors import KNeighborsClassifier\n",
    "\n",
    "best_knn_clf = KNeighborsClassifier(n_neighbors=10, p=1)\n",
    "best_knn_clf.fit(X_train, y_train)\n",
    "\n",
    "cross_val_score(best_knn_clf, X_train, y_train, scoring='accuracy').mean()"
   ]
  },
  {
   "cell_type": "code",
   "execution_count": 13,
   "metadata": {},
   "outputs": [
    {
     "data": {
      "text/plain": [
       "0.8047705730964786"
      ]
     },
     "execution_count": 13,
     "metadata": {},
     "output_type": "execute_result"
    }
   ],
   "source": [
    "from sklearn.ensemble import RandomForestClassifier\n",
    "\n",
    "rnd_clf = RandomForestClassifier(max_features=3, n_estimators=40)\n",
    "rnd_clf.fit(X_train, y_train)\n",
    "cross_val_score(rnd_clf, X_train, y_train, scoring='accuracy').mean()"
   ]
  },
  {
   "cell_type": "code",
   "execution_count": 14,
   "metadata": {},
   "outputs": [
    {
     "data": {
      "text/plain": [
       "0.824913690289373"
      ]
     },
     "execution_count": 14,
     "metadata": {},
     "output_type": "execute_result"
    }
   ],
   "source": [
    "from sklearn.ensemble import BaggingClassifier\n",
    "from sklearn.tree import DecisionTreeClassifier\n",
    "\n",
    "bag_clf = BaggingClassifier(n_estimators=290, estimator=DecisionTreeClassifier(max_depth=4),\n",
    "                            max_samples = 0.8, max_features=0.95, bootstrap=False)\n",
    "\n",
    "bag_clf.fit(X_train, y_train)\n",
    "cross_val_score(bag_clf, X_train, y_train, scoring='accuracy').mean()"
   ]
  },
  {
   "cell_type": "code",
   "execution_count": 15,
   "metadata": {},
   "outputs": [
    {
     "data": {
      "text/plain": [
       "0.7867993220764546"
      ]
     },
     "execution_count": 15,
     "metadata": {},
     "output_type": "execute_result"
    }
   ],
   "source": [
    "from sklearn.ensemble import AdaBoostClassifier\n",
    "\n",
    "ada_clf = AdaBoostClassifier(n_estimators=70, estimator=DecisionTreeClassifier(max_depth=2),\n",
    "                            learning_rate = 0.01)\n",
    "\n",
    "ada_clf.fit(X_train, y_train)\n",
    "cross_val_score(ada_clf, X_train, y_train, scoring='accuracy').mean()"
   ]
  },
  {
   "cell_type": "code",
   "execution_count": 16,
   "metadata": {},
   "outputs": [
    {
     "data": {
      "text/plain": [
       "0.8226916075575922"
      ]
     },
     "execution_count": 16,
     "metadata": {},
     "output_type": "execute_result"
    }
   ],
   "source": [
    "from sklearn.ensemble import GradientBoostingClassifier\n",
    "\n",
    "gb_clf = GradientBoostingClassifier(learning_rate=0.01, max_depth=4,\n",
    "                                    max_features = 'log2', subsample = 0.9)\n",
    "gb_clf.fit(X_train, y_train)\n",
    "cross_val_score(gb_clf, X_train, y_train, scoring='accuracy').mean()"
   ]
  },
  {
   "cell_type": "code",
   "execution_count": 17,
   "metadata": {},
   "outputs": [
    {
     "data": {
      "text/plain": [
       "0.821568012051974"
      ]
     },
     "execution_count": 17,
     "metadata": {},
     "output_type": "execute_result"
    }
   ],
   "source": [
    "from xgboost import XGBRFClassifier\n",
    "\n",
    "xgbrf_clf = XGBRFClassifier(n_estimators=100, learning_rate=0.01, max_depth=4)\n",
    "\n",
    "xgbrf_clf.fit(X_train, y_train)\n",
    "cross_val_score(xgbrf_clf, X_train, y_train, scoring='accuracy').mean()"
   ]
  },
  {
   "cell_type": "code",
   "execution_count": 18,
   "metadata": {},
   "outputs": [
    {
     "name": "stdout",
     "output_type": "stream",
     "text": [
      "{'voting': 'hard', 'weights': [2, 3, 3, 2]}\n",
      "0.8260435628648548\n"
     ]
    }
   ],
   "source": [
    "from sklearn.ensemble import VotingClassifier\n",
    "\n",
    "param_grid = {\n",
    "    'voting': ['hard', 'soft'],\n",
    "    'weights': [\n",
    "        [1, 3, 1, 1],\n",
    "        [2, 3, 2, 2],\n",
    "        [2, 3, 3, 2],\n",
    "        [2, 3, 2, 3],\n",
    "        [1, 3, 2, 1],\n",
    "    ]\n",
    "}\n",
    "\n",
    "voting_clf = VotingClassifier(\n",
    "    estimators=[('knn', best_knn_clf),\n",
    "                ('bag', bag_clf),\n",
    "                ('gb', gb_clf),\n",
    "                ('xgb', xgbrf_clf)]\n",
    ")\n",
    "\n",
    "grid_search = GridSearchCV(voting_clf, param_grid, cv=3, \n",
    "                           scoring='accuracy',\n",
    "                           return_train_score=True)\n",
    "\n",
    "grid_search.fit(X_train, y_train)\n",
    "print(grid_search.best_params_)\n",
    "best_voting_clf = grid_search.best_estimator_\n",
    "print(cross_val_score(best_voting_clf, X_train, y_train, scoring='accuracy').mean())"
   ]
  },
  {
   "cell_type": "code",
   "execution_count": 19,
   "metadata": {},
   "outputs": [
    {
     "name": "stdout",
     "output_type": "stream",
     "text": [
      "Your submission was successfully saved!\n"
     ]
    }
   ],
   "source": [
    "y_pred = best_voting_clf.predict(X_test)\n",
    "X_test = pd.read_csv('test.csv')\n",
    "output = pd.DataFrame({'PassengerId': X_test.PassengerId, 'Survived': y_pred})\n",
    "output.to_csv('submission.csv', index=False)\n",
    "print(\"Your submission was successfully saved!\")"
   ]
  }
 ],
 "metadata": {
  "kernelspec": {
   "display_name": "ml_book_env",
   "language": "python",
   "name": "python3"
  },
  "language_info": {
   "codemirror_mode": {
    "name": "ipython",
    "version": 3
   },
   "file_extension": ".py",
   "mimetype": "text/x-python",
   "name": "python",
   "nbconvert_exporter": "python",
   "pygments_lexer": "ipython3",
   "version": "3.10.12"
  },
  "orig_nbformat": 4
 },
 "nbformat": 4,
 "nbformat_minor": 2
}
